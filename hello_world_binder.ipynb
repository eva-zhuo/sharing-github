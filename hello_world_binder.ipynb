Last login: Tue Apr 26 18:07:51 on ttys001
(base) apple@appledeMacBook ~ % python
Python 3.9.7 (default, Sep 16 2021, 08:50:36) 
[Clang 10.0.0 ] :: Anaconda, Inc. on darwin
Type "help", "copyright", "credits" or "license" for more information.
>>> print('hello world')
hello world
>>> 
KeyboardInterrupt
>>> 
KeyboardInterrupt
>>> save
Traceback (most recent call last):
  File "<stdin>", line 1, in <module>
NameError: name 'save' is not defined
>>> save file
  File "<stdin>", line 1
    save file
         ^
SyntaxError: invalid syntax
>>> savefile
Traceback (most recent call last):
  File "<stdin>", line 1, in <module>
NameError: name 'savefile' is not defined
>>> 
